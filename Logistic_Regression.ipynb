{
  "nbformat": 4,
  "nbformat_minor": 0,
  "metadata": {
    "colab": {
      "provenance": []
    },
    "kernelspec": {
      "name": "python3",
      "display_name": "Python 3"
    },
    "language_info": {
      "name": "python"
    }
  },
  "cells": [
    {
      "cell_type": "markdown",
      "source": [
        "##Question 1: What is Logistic Regression, and how does it differ from Linear Regression?\n",
        "\n",
        "Answer:\n",
        "Logistic Regression is a statistical method used for classification problems. It predicts the probability that an instance belongs to a particular class. Unlike Linear Regression, which outputs continuous values, Logistic Regression outputs probabilities between 0 and 1 using the sigmoid (logistic) function, and applies a threshold (commonly 0.5) to decide class labels.\n",
        "\n",
        "Linear Regression → Predicts numeric continuous outcomes.\n",
        "\n",
        "Logistic Regression → Predicts categorical outcomes (binary or multi-class).\n",
        "\n",
        "\n",
        "###Explain the role of the Sigmoid function in Logistic Regression.\n",
        "\n",
        "Answer:\n",
        "The sigmoid function transforms the linear combination of input features into a probability between 0 and 1\n",
        "\n",
        "Ensures outputs are valid probabilities.\n",
        "\n",
        "Enables mapping linear regression outputs to classification tasks.\n",
        "\n",
        "Provides a decision boundary (e.g., probability ≥ 0.5 → Class 1, otherwise Class 0).\n",
        "\n",
        "###Question 3: What is Regularization in Logistic Regression and why is it needed?\n",
        "\n",
        "Answer:\n",
        "Regularization is a technique used to prevent overfitting by adding a penalty term to the loss function.\n",
        "\n",
        "L1 (Lasso) → Encourages sparsity (feature selection).\n",
        "L2 (Ridge) → Shrinks coefficients, reducing variance.\n",
        "\n",
        "It’s needed because:\n",
        "Logistic Regression models may overfit when too many features exist.\n",
        "Regularization improves generalization and model stability.\n",
        "\n",
        "###Question 4: What are some common evaluation metrics for classification models, and why are they important?\n",
        "\n",
        "Answer:\n",
        "\n",
        "Accuracy: Proportion of correct predictions. (Good when classes are balanced.)\n",
        "\n",
        "Precision: Of all predicted positives, how many are correct. (Important in fraud detection, spam filtering.)\n",
        "\n",
        "Recall (Sensitivity): Of all actual positives, how many are detected. (Important in medical diagnosis.)\n",
        "\n",
        "F1-Score: Harmonic mean of precision and recall (balances both).\n",
        "\n",
        "ROC-AUC: Measures discrimination power across thresholds\n"
      ],
      "metadata": {
        "id": "S7kVHdWZnPQ2"
      }
    },
    {
      "cell_type": "markdown",
      "source": [
        " Write a Python program that loads a CSV file into a Pandas DataFrame,\n",
        "splits into train/test sets, trains a Logistic Regression model, and prints its accuracy.\n",
        "(Use Dataset from sklearn package)\n",
        "(Include your Python code and output in the code box below.)"
      ],
      "metadata": {
        "id": "yj9mdU2fnqUD"
      }
    },
    {
      "cell_type": "code",
      "source": [
        "import pandas as pd\n",
        "from sklearn.model_selection import train_test_split\n",
        "from sklearn.linear_model import LogisticRegression\n",
        "from sklearn.metrics import accuracy_score\n",
        "\n",
        "# Load the breast cancer CSV file\n",
        "df = pd.read_csv(\"/content/breast_cancer.csv\")\n",
        "\n",
        "# Separate features and target\n",
        "X = df.drop(\"target\", axis=1)\n",
        "y = df[\"target\"]\n",
        "\n",
        "# Split dataset into training and test sets\n",
        "X_train, X_test, y_train, y_test = train_test_split(X, y, test_size=0.2, random_state=42)\n",
        "\n",
        "# Train Logistic Regression model\n",
        "model = LogisticRegression(max_iter=10000)\n",
        "model.fit(X_train, y_train)\n",
        "\n",
        "# Predict and evaluate\n",
        "y_pred = model.predict(X_test)\n",
        "accuracy = accuracy_score(y_test, y_pred)\n",
        "accuracy\n"
      ],
      "metadata": {
        "colab": {
          "base_uri": "https://localhost:8080/"
        },
        "id": "-T6sem0rnsA6",
        "outputId": "db13f971-a2b4-4242-e874-d9cd808b1313"
      },
      "execution_count": 6,
      "outputs": [
        {
          "output_type": "execute_result",
          "data": {
            "text/plain": [
              "0.956140350877193"
            ]
          },
          "metadata": {},
          "execution_count": 6
        }
      ]
    },
    {
      "cell_type": "markdown",
      "source": [
        "Question 7 .Write a Python program to train a Logistic Regression model for multiclass\n",
        "classification using multi_class='ovr' and print the classification report.\n",
        "(Use Dataset from sklearn package)"
      ],
      "metadata": {
        "id": "_-Wmd7vApGVg"
      }
    },
    {
      "cell_type": "code",
      "source": [
        "from sklearn.datasets import load_iris\n",
        "from sklearn.metrics import classification_report\n",
        "\n",
        "# Load dataset\n",
        "iris = load_iris()\n",
        "X, y = iris.data, iris.target\n",
        "\n",
        "# Train logistic regression with OvR\n",
        "model = LogisticRegression(multi_class='ovr', max_iter=1000)\n",
        "model.fit(X, y)\n",
        "\n",
        "# Predict and report\n",
        "y_pred = model.predict(X)\n",
        "print(classification_report(y, y_pred))\n"
      ],
      "metadata": {
        "colab": {
          "base_uri": "https://localhost:8080/"
        },
        "id": "GS76QvnmpMBZ",
        "outputId": "867618ef-3fca-4d9f-903a-24e3db41f0ba"
      },
      "execution_count": 7,
      "outputs": [
        {
          "output_type": "stream",
          "name": "stdout",
          "text": [
            "              precision    recall  f1-score   support\n",
            "\n",
            "           0       1.00      1.00      1.00        50\n",
            "           1       0.96      0.90      0.93        50\n",
            "           2       0.91      0.96      0.93        50\n",
            "\n",
            "    accuracy                           0.95       150\n",
            "   macro avg       0.95      0.95      0.95       150\n",
            "weighted avg       0.95      0.95      0.95       150\n",
            "\n"
          ]
        },
        {
          "output_type": "stream",
          "name": "stderr",
          "text": [
            "/usr/local/lib/python3.12/dist-packages/sklearn/linear_model/_logistic.py:1256: FutureWarning: 'multi_class' was deprecated in version 1.5 and will be removed in 1.7. Use OneVsRestClassifier(LogisticRegression(..)) instead. Leave it to its default value to avoid this warning.\n",
            "  warnings.warn(\n"
          ]
        }
      ]
    },
    {
      "cell_type": "markdown",
      "source": [
        "Question 8: Write a Python program to apply GridSearchCV to tune C and penalty\n",
        "hyperparameters for Logistic Regression and print the best parameters and validation\n",
        "accuracy.\n"
      ],
      "metadata": {
        "id": "hIZ6EjZipSNG"
      }
    },
    {
      "cell_type": "code",
      "source": [
        "from sklearn.model_selection import GridSearchCV\n",
        "\n",
        "# Define model and parameter grid\n",
        "param_grid = {\n",
        "    'C': [0.01, 0.1, 1, 10],\n",
        "    'penalty': ['l1', 'l2'],\n",
        "    'solver': ['liblinear']\n",
        "}\n",
        "grid = GridSearchCV(LogisticRegression(max_iter=1000), param_grid, cv=5)\n",
        "grid.fit(X_train, y_train)\n",
        "\n",
        "print(\"Best parameters:\", grid.best_params_)\n",
        "print(\"Validation accuracy:\", grid.best_score_)\n"
      ],
      "metadata": {
        "colab": {
          "base_uri": "https://localhost:8080/"
        },
        "id": "d5272piJpYod",
        "outputId": "af3d1b72-3051-41f8-bed5-0ebef71c2cb7"
      },
      "execution_count": 8,
      "outputs": [
        {
          "output_type": "stream",
          "name": "stdout",
          "text": [
            "Best parameters: {'C': 10, 'penalty': 'l2', 'solver': 'liblinear'}\n",
            "Validation accuracy: 0.9626373626373628\n"
          ]
        }
      ]
    },
    {
      "cell_type": "markdown",
      "source": [
        "Question 9: Write a Python program to standardize the features before training Logistic\n",
        "Regression and compare the model's accuracy with and without scaling.\n"
      ],
      "metadata": {
        "id": "myIaZ4KXpffM"
      }
    },
    {
      "cell_type": "code",
      "source": [
        "from sklearn.preprocessing import StandardScaler\n",
        "\n",
        "# Without scaling\n",
        "model = LogisticRegression(max_iter=1000)\n",
        "model.fit(X_train, y_train)\n",
        "print(\"Accuracy without scaling:\", model.score(X_test, y_test))\n",
        "\n",
        "# With scaling\n",
        "scaler = StandardScaler()\n",
        "X_train_scaled = scaler.fit_transform(X_train)\n",
        "X_test_scaled = scaler.transform(X_test)\n",
        "\n",
        "model_scaled = LogisticRegression(max_iter=1000)\n",
        "model_scaled.fit(X_train_scaled, y_train)\n",
        "print(\"Accuracy with scaling:\", model_scaled.score(X_test_scaled, y_test))\n"
      ],
      "metadata": {
        "colab": {
          "base_uri": "https://localhost:8080/"
        },
        "id": "6ou9iuD-pgTV",
        "outputId": "1ea77dad-81ea-438e-ed05-832cfeb6d94c"
      },
      "execution_count": 9,
      "outputs": [
        {
          "output_type": "stream",
          "name": "stdout",
          "text": [
            "Accuracy without scaling: 0.956140350877193\n",
            "Accuracy with scaling: 0.9736842105263158\n"
          ]
        },
        {
          "output_type": "stream",
          "name": "stderr",
          "text": [
            "/usr/local/lib/python3.12/dist-packages/sklearn/linear_model/_logistic.py:465: ConvergenceWarning: lbfgs failed to converge (status=1):\n",
            "STOP: TOTAL NO. OF ITERATIONS REACHED LIMIT.\n",
            "\n",
            "Increase the number of iterations (max_iter) or scale the data as shown in:\n",
            "    https://scikit-learn.org/stable/modules/preprocessing.html\n",
            "Please also refer to the documentation for alternative solver options:\n",
            "    https://scikit-learn.org/stable/modules/linear_model.html#logistic-regression\n",
            "  n_iter_i = _check_optimize_result(\n"
          ]
        }
      ]
    },
    {
      "cell_type": "markdown",
      "source": [
        "##Question 10: Imagine you are working at an e-commerce company that wants to\n",
        "predict which customers will respond to a marketing campaign. Given an imbalanced\n",
        "dataset (only 5% of customers respond), describe the approach you’d take to build a\n",
        "Logistic Regression model — including data handling, feature scaling, balancing\n",
        "classes, hyperparameter tuning, and evaluating the model for this real-world business\n",
        "use case.\n",
        "\n",
        "Ans:\n",
        "For predicting marketing campaign response (5% positive rate):\n",
        "Data Handling: Handle missing values, encode categorical features, normalize numeric features.\n",
        "\n",
        "Feature Scaling: Standardize features to improve convergence.\n",
        "Balancing Classes: Use SMOTE (oversampling), undersampling, or class weights (class_weight='balanced') in Logistic Regression.\n",
        "Hyperparameter Tuning: Tune C, penalty, and solver with GridSearchCV.\n",
        "Evaluation Metrics: Use Precision, Recall, F1, and ROC-AUC instead of accuracy (since data is imbalanced).\n",
        "Final Approach:\n",
        "\n",
        "Train Logistic Regression with scaled features.\n",
        "Apply class weighting to handle imbalance.\n",
        "Evaluate using Recall/F1 to ensure campaign captures maximum true positives."
      ],
      "metadata": {
        "id": "JYKmDSfEpm6F"
      }
    }
  ]
}