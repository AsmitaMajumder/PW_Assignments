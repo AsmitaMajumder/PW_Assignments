{
  "nbformat": 4,
  "nbformat_minor": 0,
  "metadata": {
    "colab": {
      "provenance": []
    },
    "kernelspec": {
      "name": "python3",
      "display_name": "Python 3"
    },
    "language_info": {
      "name": "python"
    }
  },
  "cells": [
    {
      "cell_type": "markdown",
      "source": [
        "Statistics Advanced - 1| Assignment\n",
        "\n",
        "\n",
        "##Q1.What is a random variable in probability theory?\n",
        "\n",
        "\n",
        "Ans:A set of possible values from a  random experiment.\n",
        "\n",
        "\n",
        "eg: Tossing a coin\n",
        "\n",
        "\n",
        "\n",
        "\n",
        "###Q2. What are the types of random variables?\n",
        "\n",
        "\n",
        "Ans:\n",
        "Discrete Random Variables which Can take on only a countable set of distinct values.\n",
        "\n",
        "\n",
        "\n",
        "\n",
        "Continuous Random Variable which can take on any value within a given range (interval).\n",
        "\n",
        "\n",
        " Mixed Random Variables  which will have both discrete and continuous components.\n",
        "\n",
        "\n",
        "###Q3. Explain the difference between discrete and continuous distributions.\n",
        "\n",
        "\n",
        "Ans:\n",
        "\n",
        "\n",
        "Nature of Outcomes:\n",
        "\n",
        "\n",
        "Finite and countable set of outcomes -discrete\n",
        "\n",
        "\n",
        "Infinite and uncountable range of outcomes-continuous distributions\n",
        "\n",
        "\n",
        "Probability Calculation\n",
        "\n",
        "\n",
        "Equal probability for each outcome: P(X=x)= 1/n  - discrete\n",
        "\n",
        "\n",
        "Equal density across the interval: f(x)= 1​/(b-a) - continuous distributions\n",
        "\n",
        "\n",
        "\n",
        "\n",
        "\n",
        "\n",
        "###Q4.What is a binomial distribution, and how is it used in probability?\n",
        "\n",
        "\n",
        "Ans:\n",
        "A random variable X\n",
        "X follows a Binomial distribution if:\n",
        "\n",
        "\n",
        "There are n independent trials.\n",
        "\n",
        "\n",
        "Each trial has exactly two outcomes (success or failure).\n",
        "\n",
        "\n",
        "The probability of success (𝑝) is the same for each trial.\n",
        "\n",
        "\n",
        "X counts the number of successes in those n trials.\n",
        "The probability of getting exactly k successes is:\n",
        "\n",
        "\n",
        "\n",
        "Q5.What is the standard normal distribution, and why is it important?\n",
        "\n",
        "Ans;\n",
        "The standard normal distribution is a special case of the normal distribution — the famous bell-shaped curve — that has been standardized to have:\n",
        "\n",
        "\n",
        "\n",
        "Importance:\n",
        "Many real-world variables follow a normal distribution with different means and standard deviations\n",
        "Critical in hypothesis testing (z-tests) and confidence intervals\n",
        "Appears naturally via the Central Limit Theorem, which says that sums/averages of many independent random variables tend toward a normal distribution, often standard normal after scaling\n",
        "\n",
        "\n",
        "\n",
        "\n",
        "Q6.: What is the Central Limit Theorem (CLT), and why is it critical in statistics?\n",
        "\n",
        "Ans:The Central Limit Theorem (CLT) says that if you take a large enough sample from any population (with a finite mean and variance), the sampling distribution of the sample mean will be approximately normal, regardless of the population’s original distribution.\n",
        "It’s critical because it lets statisticians use normal distribution–based methods (like confidence intervals and hypothesis tests) even when the underlying data isn’t normally distributed.\n",
        "\n",
        "Q7.What is the significance of confidence intervals in statistical analysis?\n",
        "Ans:\n",
        "Confidence intervals give a range of plausible values for an unknown population parameter.\n",
        "They reflect both the estimate from sample data and the uncertainty due to sampling variability.\n",
        "A wider interval means more uncertainty; a narrower one means more precision.\n",
        "They help assess the reliability of an estimate without relying on a single point value.\n",
        "In decision-making, they indicate how confident we can be about where the true value lies.\n",
        "\n",
        "Q8.What is the concept of expected value in a probability distribution?\n",
        "Ans:\n",
        "The expected value is the long-run average outcome of a random variable if you repeated an experiment infinitely many times.\n",
        "It’s calculated by multiplying each possible value by its probability and then summing these products.\n",
        "\n",
        "\n",
        "\n"
      ],
      "metadata": {
        "id": "o-6y2AOmtyYb"
      }
    },
    {
      "cell_type": "markdown",
      "source": [
        "Q9.Write a Python program to generate 1000 random numbers from a normal distribution with mean = 50 and standard deviation = 5. Compute its mean and standard deviation using NumPy, and draw a histogram to visualize the distribution.\n"
      ],
      "metadata": {
        "id": "vGJiyPPgt5KP"
      }
    },
    {
      "cell_type": "code",
      "source": [
        "import numpy as np\n",
        "import matplotlib.pyplot as plt\n",
        "\n",
        "# Generate 1000 random numbers from a normal distribution\n",
        "mean = 50\n",
        "std_dev = 5\n",
        "size = 1000\n",
        "\n",
        "data = np.random.normal(mean, std_dev, size)\n",
        "\n",
        "# Compute mean and standard deviation\n",
        "computed_mean = np.mean(data)\n",
        "computed_std = np.std(data)\n",
        "\n",
        "print(f\"Computed Mean: {computed_mean}\")\n",
        "print(f\"Computed Standard Deviation: {computed_std}\")\n",
        "\n",
        "# Draw histogram\n",
        "plt.hist(data, bins=30, edgecolor='black', alpha=0.7)\n",
        "plt.title(\"Histogram of Normally Distributed Data\")\n",
        "plt.xlabel(\"Value\")\n",
        "plt.ylabel(\"Frequency\")\n",
        "plt.show()\n"
      ],
      "metadata": {
        "colab": {
          "base_uri": "https://localhost:8080/",
          "height": 507
        },
        "id": "rahK_nhAuBQg",
        "outputId": "99977918-b84a-45e3-cffa-cd84c176fc90"
      },
      "execution_count": 1,
      "outputs": [
        {
          "output_type": "stream",
          "name": "stdout",
          "text": [
            "Computed Mean: 50.04725446328307\n",
            "Computed Standard Deviation: 4.905419898812503\n"
          ]
        },
        {
          "output_type": "display_data",
          "data": {
            "text/plain": [
              "<Figure size 640x480 with 1 Axes>"
            ],
            "image/png": "[encoded data removed]"
          },
          "metadata": {}
        }
      ]
    },
    {
      "cell_type": "markdown",
      "source": [
        "\n",
        "Q10.You are working as a data analyst for a retail company. The company has collected daily sales data for 2 years and wants you to identify the overall sales trend. daily_sales = [220, 245, 210, 265, 230, 250, 260, 275, 240, 255, 235, 260, 245, 250, 225, 270, 265, 255, 250, 260] ● Explain how you would apply the Central Limit Theorem to estimate the average sales with a 95% confidence interval. ● Write the Python code to compute the mean sales and its confidence interval.\n"
      ],
      "metadata": {
        "id": "cMUn2X2muMac"
      }
    },
    {
      "cell_type": "code",
      "source": [
        "import numpy as np\n",
        "import scipy.stats as st\n",
        "\n",
        "# Daily sales data\n",
        "daily_sales = [220, 245, 210, 265, 230, 250, 260, 275, 240, 255,\n",
        "               235, 260, 245, 250, 225, 270, 265, 255, 250, 260]\n",
        "\n",
        "# Compute mean and standard deviation\n",
        "mean_sales = np.mean(daily_sales)\n",
        "std_sales = np.std(daily_sales, ddof=1)  # sample standard deviation\n",
        "n = len(daily_sales)\n",
        "\n",
        "# Standard error\n",
        "se = std_sales / np.sqrt(n)\n",
        "\n",
        "# 95% Confidence Interval using z (approx normal)\n",
        "confidence_level = 0.95\n",
        "z = st.norm.ppf(1 - (1-confidence_level)/2)  # 1.96 for 95%\n",
        "ci_lower = mean_sales - z * se\n",
        "ci_upper = mean_sales + z * se\n",
        "\n",
        "print(f\"Mean Sales: {mean_sales:.2f}\")\n",
        "print(f\"Standard Deviation: {std_sales:.2f}\")\n",
        "print(f\"95% Confidence Interval: ({ci_lower:.2f}, {ci_upper:.2f})\")\n"
      ],
      "metadata": {
        "colab": {
          "base_uri": "https://localhost:8080/"
        },
        "id": "OUGPVMr9uQwZ",
        "outputId": "f11e4ec6-7479-415d-9e56-c12637c793b8"
      },
      "execution_count": 2,
      "outputs": [
        {
          "output_type": "stream",
          "name": "stdout",
          "text": [
            "Mean Sales: 248.25\n",
            "Standard Deviation: 17.27\n",
            "95% Confidence Interval: (240.68, 255.82)\n"
          ]
        }
      ]
    }
  ]
}