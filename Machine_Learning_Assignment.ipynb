{
  "nbformat": 4,
  "nbformat_minor": 0,
  "metadata": {
    "colab": {
      "provenance": []
    },
    "kernelspec": {
      "name": "python3",
      "display_name": "Python 3"
    },
    "language_info": {
      "name": "python"
    }
  },
  "cells": [
    {
      "cell_type": "markdown",
      "source": [
        "**Machine Learning Intro | Assignment**\n"
      ],
      "metadata": {
        "id": "SCMLhWSwzsJC"
      }
    },
    {
      "cell_type": "markdown",
      "source": [
        " ##1.Explain the differences between AI, ML, Deep Learning (DL), and Data Science (DS).\n",
        "Ans:\n",
        "\n",
        "Artificial Intelligence (AI):AI is the broad field of creating machines or systems that can perform tasks that normally require human intelligence (e.g., reasoning, learning, decision-making, natural language understanding).\n",
        "\n",
        "Examples: Expert systems, chatbots, autonomous vehicles, recommendation systems.\n",
        "\n",
        " Machine Learning (ML): ML is a subset of AI that focuses on algorithms that allow computers to learn patterns from data and improve performance over time without being explicitly programmed.\n",
        "\n",
        "Examples: Spam email filtering, credit scoring, fraud detection.\n",
        "\n",
        "Data Science (DS): DS is an interdisciplinary field that combines statistics, computer science, domain knowledge, and data analysis to extract insights and knowledge from data.\n",
        "\n",
        "Examples: Business analytics dashboards, customer segmentation, trend forecasting."
      ],
      "metadata": {
        "id": "tyGR1T7CzvLA"
      }
    },
    {
      "cell_type": "markdown",
      "source": [
        "###2.What are the types of machine learning? Describe each with one\n",
        "real-world example.\n",
        "\n",
        "Ans:\n",
        "Machine Learning (ML) is generally categorized into three  types:\n",
        "\n",
        "1. Supervised Learning\n",
        "The model is trained on a labeled dataset (input + correct output). It learns the mapping from inputs to outputs.\n",
        "\n",
        "Email spam detection → The model is trained on emails labeled as spam or not spam. It then classifies new emails accordingly.\n",
        "\n",
        "2. Unsupervised Learning\n",
        " The model is trained on unlabeled data, meaning no predefined outputs are given. It tries to find hidden patterns or groupings in the data.\n",
        "\n",
        "Real-world example:\n",
        "\n",
        "Customer segmentation in marketing → A company groups customers with similar purchasing behaviors (e.g., frequent buyers vs. seasonal buyers) to design targeted campaigns.\n",
        "\n",
        "3. Reinforcement Learning (RL)\n",
        " An agent learns by interacting with an environment and receiving feedback in the form of rewards or penalties.\n",
        "\n",
        "Real-world example:\n",
        "\n",
        "Self-driving cars → The car (agent) learns to drive by making decisions (actions) such as accelerating, braking, or turning, while receiving feedback (rewards/penalties) based on safety and efficiency.\n",
        "\n",
        "4. Semi-Supervised Learning (Hybrid approach)\n",
        "\n",
        "Definition: Uses a small amount of labeled data combined with a large amount of unlabeled data. Useful when labeling is expensive/difficult\n",
        "\n",
        "Real life example:A few labeled X-ray images (disease vs. no disease) are combined with many unlabeled ones, helping the model generalize better without requiring doctors to label every single scan.\n"
      ],
      "metadata": {
        "id": "NE3ncwjY0PAV"
      }
    },
    {
      "cell_type": "markdown",
      "source": [
        "###3. Define overfitting, underfitting, and the bias-variance tradeoff in machine\n",
        "\n",
        "Ans:\n",
        "\n",
        "1. Overfitting: When a model learns the training data too well, including its noise and random fluctuations, so it performs well on training data but poorly on unseen (test) data.\n",
        "\n",
        "2. Underfitting: When a model is too simple to capture the underlying patterns in the data, leading to poor performance on both training and test data.\n",
        "\n",
        "3. Bias-Variance Tradeoff\n",
        "\n",
        "Bias: Error from overly simple assumptions in the model (leads to underfitting).\n",
        "\n",
        "Variance: Error from the model being too sensitive to small fluctuations in the training data (leads to overfitting).\n",
        "\n",
        "Tradeoff:the model balances bias and variance for best generalization."
      ],
      "metadata": {
        "id": "-wtIIh_41Brn"
      }
    },
    {
      "cell_type": "markdown",
      "source": [
        "###4. What are outliers in a dataset, and list three common techniques for handling them.\n",
        "\n",
        "Ans:An outlier in a dataset is a data point that differs significantly from the majority of the other observations. It may be unusually high or low compared to the rest of the data. Outliers can occur due to variability in data, measurement errors, or rare events, and they can distort statistical analysis and model performance if not handled properly.\n",
        "\n",
        "Three common techniques for handling outliers:\n",
        "Removal (Deleting Outliers)\n",
        "Transformation\n",
        "Capping"
      ],
      "metadata": {
        "id": "WTA5Kldt1m1K"
      }
    },
    {
      "cell_type": "markdown",
      "source": [
        "###5. Explain the process of handling missing values and mention one imputation technique for numerical and one for categorical data.\n",
        "\n",
        "Ans:\n",
        "In data analysis, missing values are a common issue that can negatively affect the quality of insights and the performance of machine learning models. Therefore, handling them correctly is a crucial preprocessing step.\n",
        "\n",
        "Process of Handling Missing Values\n",
        "\n",
        "Identification: The first step is to detect missing values in the dataset. Tools such as .isnull() or .info() in Python (pandas) can be used to identify them.\n",
        "\n",
        "Analysis of Pattern: It is important to understand whether the missing values are\n",
        "\n",
        "Choosing a Strategy: Based on the extent and importance of missing data, one can either:\n",
        "\n",
        "Remove rows or columns with missing values (if they are very few or insignificant).\n",
        "\n",
        "Impute (fill in) missing values with suitable estimates.\n",
        "\n",
        "Add an indicator variable to flag missing values for later analysis.\n",
        "\n",
        "Imputation Techniques\n",
        "\n",
        "For Numerical Data:\n",
        "A common method is Mean Imputation, where missing values are replaced with the average value of the column.\n",
        "Example: If the \"Age\" column has missing values, they can be filled with the mean age of the dataset.\n",
        "\n",
        "For Categorical Data:\n",
        "A common method is Mode Imputation, where missing values are replaced with the most frequent category in the column."
      ],
      "metadata": {
        "id": "Cln6ro9g2Ojo"
      }
    },
    {
      "cell_type": "markdown",
      "source": [
        "###6.Write a Python program that:\n",
        "● Creates a synthetic imbalanced dataset with make_classification() from\n",
        "sklearn.datasets.\n",
        "● Prints the class distribution.\n",
        "(Include your Python code and output in the code box below.)"
      ],
      "metadata": {
        "id": "NSSnlkxL2yfg"
      }
    },
    {
      "cell_type": "code",
      "source": [
        "# Import necessary libraries\n",
        "from sklearn.datasets import make_classification\n",
        "from collections import Counter\n",
        "import pandas as pd\n",
        "\n",
        "# Create synthetic imbalanced dataset\n",
        "X, y = make_classification(n_samples=1000,    # total samples\n",
        "                           n_features=10,     # number of features\n",
        "                           n_informative=2,   # informative features\n",
        "                           n_redundant=0,     # redundant features\n",
        "                           n_clusters_per_class=1,\n",
        "                           weights=[0.9, 0.1], # imbalance ratio (90% vs 10%)\n",
        "                           random_state=42)\n",
        "\n",
        "# Print class distribution\n",
        "class_distribution = Counter(y)\n",
        "print(\"Class Distribution:\", class_distribution)\n",
        "\n",
        "# Optional: Display in tabular format for clarity\n",
        "df_distribution = pd.DataFrame.from_dict(class_distribution, orient='index', columns=['Count'])\n",
        "df_distribution.index.name = 'Class'\n",
        "print(\"\\nClass Distribution Table:\\n\")\n",
        "print(df_distribution)\n"
      ],
      "metadata": {
        "colab": {
          "base_uri": "https://localhost:8080/"
        },
        "id": "EDdLfBur2-Va",
        "outputId": "5f8296ba-4e02-4502-c2df-c404c54fc56b"
      },
      "execution_count": 1,
      "outputs": [
        {
          "output_type": "stream",
          "name": "stdout",
          "text": [
            "Class Distribution: Counter({np.int64(0): 895, np.int64(1): 105})\n",
            "\n",
            "Class Distribution Table:\n",
            "\n",
            "       Count\n",
            "Class       \n",
            "0        895\n",
            "1        105\n"
          ]
        }
      ]
    },
    {
      "cell_type": "markdown",
      "source": [
        "###7. : Implement one-hot encoding using pandas for the following list of colors:\n",
        "['Red', 'Green', 'Blue', 'Green', 'Red']. Print the resulting dataframe.\n",
        "(Include your Python code and output in the code box below."
      ],
      "metadata": {
        "id": "2DyxnmxK3I2y"
      }
    },
    {
      "cell_type": "code",
      "source": [
        "# Import pandas\n",
        "import pandas as pd\n",
        "\n",
        "# List of colors\n",
        "colors = ['Red', 'Green', 'Blue', 'Green', 'Red']\n",
        "\n",
        "# Create DataFrame\n",
        "df = pd.DataFrame(colors, columns=['Color'])\n",
        "\n",
        "# Apply one-hot encoding\n",
        "one_hot = pd.get_dummies(df['Color'])\n",
        "\n",
        "# Combine original column with encoded columns\n",
        "result = pd.concat([df, one_hot], axis=1)\n",
        "\n",
        "# Print the resulting DataFrame\n",
        "print(result)\n"
      ],
      "metadata": {
        "colab": {
          "base_uri": "https://localhost:8080/"
        },
        "id": "8oV8Wm2H3O4M",
        "outputId": "4cf64537-cc84-46ed-d348-ec6a369b3934"
      },
      "execution_count": 2,
      "outputs": [
        {
          "output_type": "stream",
          "name": "stdout",
          "text": [
            "   Color   Blue  Green    Red\n",
            "0    Red  False  False   True\n",
            "1  Green  False   True  False\n",
            "2   Blue   True  False  False\n",
            "3  Green  False   True  False\n",
            "4    Red  False  False   True\n"
          ]
        }
      ]
    },
    {
      "cell_type": "markdown",
      "source": [
        "###8. n 8: Write a Python script to:\n",
        "● Generate 1000 samples from a normal distribution.\n",
        "● Introduce 50 random missing values.\n",
        "● Fill missing values with the column mean.\n",
        "● Plot a histogram before and after imputation.\n",
        "(Include your Python code and output in the code box below.)"
      ],
      "metadata": {
        "id": "6liBsEvp3XQA"
      }
    },
    {
      "cell_type": "code",
      "source": [
        "import numpy as np\n",
        "import pandas as pd\n",
        "import matplotlib.pyplot as plt\n",
        "\n",
        "# Step 1: Generate 1000 samples from a normal distribution\n",
        "np.random.seed(42)  # for reproducibility\n",
        "data = np.random.normal(loc=50, scale=10, size=1000)  # mean=50, std=10\n",
        "\n",
        "# Convert to DataFrame\n",
        "df = pd.DataFrame(data, columns=['Value'])\n",
        "\n",
        "# Step 2: Introduce 50 random missing values\n",
        "missing_indices = np.random.choice(df.index, size=50, replace=False)\n",
        "df.loc[missing_indices, 'Value'] = np.nan\n",
        "\n",
        "# Step 3: Fill missing values with the column mean\n",
        "df_imputed = df.copy()\n",
        "mean_value = df_imputed['Value'].mean()\n",
        "df_imputed['Value'].fillna(mean_value, inplace=True)\n",
        "\n",
        "# Step 4: Plot histogram before and after imputation\n",
        "plt.figure(figsize=(10,5))\n",
        "\n",
        "# Before imputation\n",
        "plt.subplot(1, 2, 1)\n",
        "plt.hist(df['Value'].dropna(), bins=30, edgecolor='black')\n",
        "plt.title(\"Before Imputation\")\n",
        "plt.xlabel(\"Value\")\n",
        "plt.ylabel(\"Frequency\")\n",
        "\n",
        "# After imputation\n",
        "plt.subplot(1, 2, 2)\n",
        "plt.hist(df_imputed['Value'], bins=30, edgecolor='black')\n",
        "plt.title(\"After Imputation\")\n",
        "plt.xlabel(\"Value\")\n",
        "plt.ylabel(\"Frequency\")\n",
        "\n",
        "plt.tight_layout()\n",
        "plt.show()\n"
      ],
      "metadata": {
        "colab": {
          "base_uri": "https://localhost:8080/",
          "height": 648
        },
        "id": "oFhXOxym3dFh",
        "outputId": "b72f63cf-2511-446d-cccf-ef83ef18bd72"
      },
      "execution_count": 3,
      "outputs": [
        {
          "output_type": "stream",
          "name": "stderr",
          "text": [
            "/tmp/ipython-input-191491015.py:19: FutureWarning: A value is trying to be set on a copy of a DataFrame or Series through chained assignment using an inplace method.\n",
            "The behavior will change in pandas 3.0. This inplace method will never work because the intermediate object on which we are setting values always behaves as a copy.\n",
            "\n",
            "For example, when doing 'df[col].method(value, inplace=True)', try using 'df.method({col: value}, inplace=True)' or df[col] = df[col].method(value) instead, to perform the operation inplace on the original object.\n",
            "\n",
            "\n",
            "  df_imputed['Value'].fillna(mean_value, inplace=True)\n"
          ]
        },
        {
          "output_type": "display_data",
          "data": {
            "text/plain": [
              "<Figure size 1000x500 with 2 Axes>"
            ],
            "image/png": "[encoded data removed]"
          },
          "metadata": {}
        }
      ]
    },
    {
      "cell_type": "markdown",
      "source": [
        "### Question 9: Implement Min-Max scaling on the following list of numbers [2, 5, 10, 15,\n",
        "20] using sklearn.preprocessing.MinMaxScaler. Print the scaled array.\n"
      ],
      "metadata": {
        "id": "_ZxVGMqf3n6A"
      }
    },
    {
      "cell_type": "code",
      "source": [
        "from sklearn.preprocessing import MinMaxScaler\n",
        "import numpy as np\n",
        "\n",
        "# Original data\n",
        "data = np.array([2, 5, 10, 15, 20]).reshape(-1, 1)\n",
        "\n",
        "# Initialize scaler\n",
        "scaler = MinMaxScaler()\n",
        "\n",
        "# Fit and transform data\n",
        "scaled_data = scaler.fit_transform(data)\n",
        "\n",
        "# Print scaled array\n",
        "print(\"Scaled Array:\")\n",
        "print(scaled_data)\n"
      ],
      "metadata": {
        "colab": {
          "base_uri": "https://localhost:8080/"
        },
        "id": "obDRBkVq3xnw",
        "outputId": "d112a142-b37a-447e-8f54-6c522430fd91"
      },
      "execution_count": 4,
      "outputs": [
        {
          "output_type": "stream",
          "name": "stdout",
          "text": [
            "Scaled Array:\n",
            "[[0.        ]\n",
            " [0.16666667]\n",
            " [0.44444444]\n",
            " [0.72222222]\n",
            " [1.        ]]\n"
          ]
        }
      ]
    },
    {
      "cell_type": "markdown",
      "source": [
        "###10.: You are working as a data scientist for a retail company. You receive a customer\n",
        "transaction dataset that contains:\n",
        "● Missing ages,\n",
        "● Outliers in transaction amount,\n",
        "● A highly imbalanced target (fraud vs. non-fraud),\n",
        "● Categorical variables like payment method.\n",
        "Explain the step-by-step data preparation plan you’d follow before training a machine learning\n",
        "model. Include how you’d address missing data, outliers, imbalance, and encoding.\n",
        "(Include your Python code and output in the code box below.)\n"
      ],
      "metadata": {
        "id": "B615bA_C3zSW"
      }
    },
    {
      "cell_type": "code",
      "source": [
        "import pandas as pd\n",
        "import numpy as np\n",
        "from sklearn.impute import SimpleImputer\n",
        "from sklearn.preprocessing import OneHotEncoder, MinMaxScaler\n",
        "from sklearn.model_selection import train_test_split\n",
        "from imblearn.over_sampling import SMOTE\n",
        "\n",
        "# -----------------------\n",
        "# 1. Simulated dataset\n",
        "# -----------------------\n",
        "data = {\n",
        "    'Age': [25, np.nan, 40, 35, np.nan, 50, 28],\n",
        "    'TransactionAmount': [100, 2000, 150, 300, 120000, 400, 250],\n",
        "    'PaymentMethod': ['CreditCard', 'DebitCard', 'PayPal', 'CreditCard', 'DebitCard', 'PayPal', 'CreditCard'],\n",
        "    'Fraud': [0, 0, 0, 1, 0, 0, 1]\n",
        "}\n",
        "df = pd.DataFrame(data)\n",
        "\n",
        "print(\"Original Data:\\n\", df)\n",
        "\n",
        "# -----------------------\n",
        "# 2. Handle missing ages\n",
        "# -----------------------\n",
        "imputer = SimpleImputer(strategy='median')\n",
        "df['Age'] = imputer.fit_transform(df[['Age']])\n",
        "\n",
        "# -----------------------\n",
        "# 3. Handle outliers (TransactionAmount)\n",
        "#    Using IQR method to cap outliers\n",
        "# -----------------------\n",
        "Q1 = df['TransactionAmount'].quantile(0.25)\n",
        "Q3 = df['TransactionAmount'].quantile(0.75)\n",
        "IQR = Q3 - Q1\n",
        "lower_bound = Q1 - 1.5*IQR\n",
        "upper_bound = Q3 + 1.5*IQR\n",
        "df['TransactionAmount'] = np.where(df['TransactionAmount'] > upper_bound, upper_bound,\n",
        "                                   np.where(df['TransactionAmount'] < lower_bound, lower_bound, df['TransactionAmount']))\n",
        "\n",
        "# -----------------------\n",
        "# 4. Encode categorical variables\n",
        "# -----------------------\n",
        "encoder = OneHotEncoder(drop='first', sparse_output=False)\n",
        "encoded = encoder.fit_transform(df[['PaymentMethod']])\n",
        "encoded_df = pd.DataFrame(encoded, columns=encoder.get_feature_names_out(['PaymentMethod']))\n",
        "df = pd.concat([df.drop('PaymentMethod', axis=1), encoded_df], axis=1)\n",
        "\n",
        "# -----------------------\n",
        "# 5. Handle imbalance (Fraud column)\n",
        "# -----------------------\n",
        "X = df.drop('Fraud', axis=1)\n",
        "y = df['Fraud']\n",
        "\n",
        "# Use a smaller n_neighbors because of the small dataset size\n",
        "smote = SMOTE(random_state=42, k_neighbors=1)\n",
        "X_resampled, y_resampled = smote.fit_resample(X, y)\n",
        "\n",
        "# -----------------------\n",
        "# 6. Scale numerical features\n",
        "# -----------------------\n",
        "scaler = MinMaxScaler()\n",
        "X_resampled[['Age', 'TransactionAmount']] = scaler.fit_transform(X_resampled[['Age', 'TransactionAmount']])\n",
        "\n",
        "# -----------------------\n",
        "# Final Prepared Data\n",
        "# -----------------------\n",
        "prepared_df = pd.concat([X_resampled, y_resampled], axis=1)\n",
        "print(\"\\nPrepared Data After Preprocessing:\\n\", prepared_df)"
      ],
      "metadata": {
        "colab": {
          "base_uri": "https://localhost:8080/"
        },
        "id": "FK0uczLI36Rj",
        "outputId": "34dcbe11-5c70-4110-a6f3-cc5d324ddbc3"
      },
      "execution_count": 7,
      "outputs": [
        {
          "output_type": "stream",
          "name": "stdout",
          "text": [
            "Original Data:\n",
            "     Age  TransactionAmount PaymentMethod  Fraud\n",
            "0  25.0                100    CreditCard      0\n",
            "1   NaN               2000     DebitCard      0\n",
            "2  40.0                150        PayPal      0\n",
            "3  35.0                300    CreditCard      1\n",
            "4   NaN             120000     DebitCard      0\n",
            "5  50.0                400        PayPal      0\n",
            "6  28.0                250    CreditCard      1\n",
            "\n",
            "Prepared Data After Preprocessing:\n",
            "         Age  TransactionAmount  PaymentMethod_DebitCard  PaymentMethod_PayPal  \\\n",
            "0  0.000000           0.000000                      0.0                   0.0   \n",
            "1  0.400000           0.730769                      1.0                   0.0   \n",
            "2  0.600000           0.019231                      0.0                   1.0   \n",
            "3  0.400000           0.076923                      0.0                   0.0   \n",
            "4  0.400000           1.000000                      1.0                   0.0   \n",
            "5  1.000000           0.115385                      0.0                   1.0   \n",
            "6  0.120000           0.057692                      0.0                   0.0   \n",
            "7  0.348638           0.073395                      0.0                   0.0   \n",
            "8  0.338313           0.072686                      0.0                   0.0   \n",
            "9  0.232882           0.065445                      0.0                   0.0   \n",
            "\n",
            "   Fraud  \n",
            "0      0  \n",
            "1      0  \n",
            "2      0  \n",
            "3      1  \n",
            "4      0  \n",
            "5      0  \n",
            "6      1  \n",
            "7      1  \n",
            "8      1  \n",
            "9      1  \n"
          ]
        }
      ]
    }
  ]
}